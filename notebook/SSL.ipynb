{
 "cells": [
  {
   "cell_type": "code",
   "execution_count": 66,
   "metadata": {
    "collapsed": false
   },
   "outputs": [
    {
     "name": "stdout",
     "output_type": "stream",
     "text": [
      "The autoreload extension is already loaded. To reload it, use:\n",
      "  %reload_ext autoreload\n"
     ]
    }
   ],
   "source": [
    "import sys\n",
    "sys.path.append('../core/')\n",
    "sys.path.append('../networks/')\n",
    "from ssl_fc import SSL_Encoder1, SSL_Encoder2, SSL_Decoder\n",
    "from m2 import SSL_M2\n",
    "from misc_ops import *\n",
    "\n",
    "import numpy as np\n",
    "import tensorflow as tf\n",
    "\n",
    "import matplotlib.pyplot as plt\n",
    "%matplotlib inline\n",
    "\n",
    "# for auto-reloading external modules\n",
    "# see http://stackoverflow.com/questions/1907993/autoreload-of-modules-in-ipython\n",
    "%load_ext autoreload\n",
    "%autoreload 2"
   ]
  },
  {
   "cell_type": "code",
   "execution_count": 67,
   "metadata": {
    "collapsed": false,
    "scrolled": false
   },
   "outputs": [
    {
     "name": "stdout",
     "output_type": "stream",
     "text": [
      "Extracting MNIST_data/train-images-idx3-ubyte.gz\n",
      "Extracting MNIST_data/train-labels-idx1-ubyte.gz\n",
      "Extracting MNIST_data/t10k-images-idx3-ubyte.gz\n",
      "Extracting MNIST_data/t10k-labels-idx1-ubyte.gz\n"
     ]
    }
   ],
   "source": [
    "from tensorflow.python.framework import dtypes\n",
    "from tensorflow.contrib.learn.python.learn.datasets.mnist import read_data_sets\n",
    "from dataset import DataSet\n",
    "mnist = read_data_sets('MNIST_data', one_hot=True)"
   ]
  },
  {
   "cell_type": "code",
   "execution_count": 68,
   "metadata": {
    "collapsed": true
   },
   "outputs": [],
   "source": [
    "def split_data(dataset, num_labeled):\n",
    "    \"\"\"\n",
    "    Split dataset into two datasets\n",
    "    \"\"\"\n",
    "    n = dataset.num_examples\n",
    "    x, y = dataset.next_batch(n)\n",
    "    x1 = x[xrange(num_labeled),:]\n",
    "    y1 = y[xrange(num_labeled),:]\n",
    "    x2 = x[xrange(num_labeled, n),:]\n",
    "    y2 = y[xrange(num_labeled, n),:]\n",
    "    d1 = DataSet(x1, y1, dtype=dtypes.float32, reshape=False)\n",
    "    d2 = DataSet(x2, y2, dtype=dtypes.float32, reshape=False)\n",
    "    return d1, d2"
   ]
  },
  {
   "cell_type": "code",
   "execution_count": 119,
   "metadata": {
    "collapsed": false
   },
   "outputs": [
    {
     "name": "stdout",
     "output_type": "stream",
     "text": [
      "[ 61.  68.  45.  65.  60.  47.  70.  67.  62.  55.]\n"
     ]
    }
   ],
   "source": [
    "# Split dataset into labeled and unlabeled\n",
    "num_labeled = 600\n",
    "labeled, unlabeled = split_data(mnist.train, num_labeled)\n",
    "_, y = labeled.next_batch(num_labeled)\n",
    "print np.sum(y, axis=0)"
   ]
  },
  {
   "cell_type": "code",
   "execution_count": 121,
   "metadata": {
    "collapsed": false,
    "scrolled": false
   },
   "outputs": [],
   "source": [
    "tf.reset_default_graph()"
   ]
  },
  {
   "cell_type": "code",
   "execution_count": 122,
   "metadata": {
    "collapsed": false
   },
   "outputs": [],
   "source": [
    "# Train\n",
    "sess = tf.InteractiveSession()\n",
    "build_encoder1 = SSL_Encoder1(500)\n",
    "build_encoder2 = SSL_Encoder2(500)\n",
    "build_decoder = SSL_Decoder(500)\n",
    "\n",
    "# as the number of labeled examples decreases, need alpha to decrease as well?\n",
    "model = SSL_M2(sess, build_encoder1, build_encoder2, build_decoder, labeled, unlabeled,\n",
    "            batch_size = 100, z_dim = 50, x_dim = 784, y_dim=10, alpha=55000./10,\n",
    "           learning_rate = 1e-3, num_epochs = 20, load=False,\n",
    "          checkpoint_name='test'\n",
    ")"
   ]
  },
  {
   "cell_type": "code",
   "execution_count": 128,
   "metadata": {
    "collapsed": false
   },
   "outputs": [
    {
     "name": "stdout",
     "output_type": "stream",
     "text": [
      "Epoch 21 loss: 1708.26247352\n",
      "Epoch 22 loss: 1798.41302616\n",
      "Epoch 23 loss: 1949.56345345\n",
      "Epoch 24 loss: 1661.176368\n",
      "Epoch 25 loss: 2225.33551411\n",
      "Epoch 26 loss: 2229.35189238\n",
      "Epoch 27 loss: 1895.10505532\n",
      "Epoch 28 loss: 1839.13810236\n",
      "Epoch 29 loss: 1794.45162708\n",
      "Epoch 30 loss: 1538.52783398\n",
      "Epoch 31 loss: 2118.40631304\n",
      "Epoch 32 loss: 2367.99059907\n",
      "Epoch 33 loss: 2377.57487198\n",
      "Epoch 34 loss: 2276.51991865\n",
      "Epoch 35 loss: 1639.99797232\n",
      "Epoch 36 loss: 1685.73323336\n",
      "Epoch 37 loss: 1875.99708067\n",
      "Epoch 38 loss: 1916.28762462\n",
      "Epoch 39 loss: 2554.13257365\n",
      "Epoch 40 loss: 2153.69095251\n"
     ]
    }
   ],
   "source": [
    "model.train()"
   ]
  },
  {
   "cell_type": "code",
   "execution_count": 129,
   "metadata": {
    "collapsed": false
   },
   "outputs": [
    {
     "data": {
      "image/png": "[encoded data removed]",
      "text/plain": [
       "<matplotlib.figure.Figure at 0x1abb5cdd0>"
      ]
     },
     "metadata": {},
     "output_type": "display_data"
    }
   ],
   "source": [
    "log = model.log\n",
    "log = np.array(log).T\n",
    "plt.plot(log[0,], log[1,])\n",
    "plt.title('Loss')\n",
    "plt.show()"
   ]
  },
  {
   "cell_type": "code",
   "execution_count": 7,
   "metadata": {
    "collapsed": false
   },
   "outputs": [],
   "source": [
    "#Load\n",
    "sess = tf.InteractiveSession()\n",
    "build_encoder1 = SSL_Encoder1(500)\n",
    "build_encoder2 = SSL_Encoder2(500)\n",
    "build_decoder = SSL_Decoder(500)\n",
    "\n",
    "model = SSL_M2(sess, build_encoder1, build_encoder2, build_decoder, labeled, unlabeled,\n",
    "            batch_size = 100, z_dim = 50, x_dim = 784, y_dim=10, alpha=55000./10,\n",
    "           learning_rate = 1e-3, num_epochs = 20, load=True,\n",
    "        load_file = \"checkpoints/test\"\n",
    "              )"
   ]
  },
  {
   "cell_type": "code",
   "execution_count": null,
   "metadata": {
    "collapsed": false
   },
   "outputs": [],
   "source": [
    "#images, info = mnist.test.next_batch(100)\n",
    "num_examples = 10\n",
    "batch_size = 100\n",
    "\n",
    "labels = np.repeat(np.identity(10), num_examples, axis=0)\n",
    "generated_images = model.generate(num=batch_size, labels=labels)\n",
    "\n",
    "\n",
    "plt.figure(figsize=(8,12))\n",
    "for i in xrange(10):\n",
    "    for j in xrange(num_examples):\n",
    "        plt.subplot(10, num_examples, 10*i+j+1)\n",
    "        plt.imshow(generated_images[10*i+j,].reshape(28, 28), cmap='gray_r')\n",
    "        plt.xticks([])\n",
    "        plt.yticks([])\n",
    "plt.tight_layout()\n",
    "#plt.savefig('images/SSL_generate_600')\n",
    "plt.show()"
   ]
  },
  {
   "cell_type": "code",
   "execution_count": null,
   "metadata": {
    "collapsed": false
   },
   "outputs": [],
   "source": [
    "# Classify validation images\n",
    "batch_size = 100\n",
    "num_val = mnist.validation.num_examples\n",
    "tot = 0\n",
    "for t in xrange(num_val / batch_size):\n",
    "    x_val, y_val = mnist.validation.next_batch(batch_size)\n",
    "    y_pred = model.classify(x_val)\n",
    "    y_val = np.argmax(y_val, axis=1)\n",
    "    tot += np.sum(y_pred != y_val)\n",
    "print \"Error: {}\".format(float(tot)/num_val)\n",
    "#with open(\"SSL_errors/SSL_err_600.txt\", \"w\") as text_file:\n",
    "    #text_file.write(\"Validation error: {}\\n\".format(float(tot)/num_val))"
   ]
  },
  {
   "cell_type": "code",
   "execution_count": 127,
   "metadata": {
    "collapsed": false
   },
   "outputs": [
    {
     "name": "stdout",
     "output_type": "stream",
     "text": [
      "Error: 0.1197\n"
     ]
    }
   ],
   "source": [
    "# Classify test images\n",
    "batch_size = 100\n",
    "num_test = mnist.test.num_examples\n",
    "tot = 0\n",
    "for t in xrange(num_test / batch_size):\n",
    "    x_test, y_test = mnist.test.next_batch(batch_size)\n",
    "    y_pred = model.classify(x_test)\n",
    "    y_test = np.argmax(y_test, axis=1)\n",
    "    tot += np.sum(y_pred != y_test)\n",
    "print \"Error: {}\".format(float(tot)/num_test)\n",
    "with open(\"SSL_errors/SSL_err_600.txt\", \"a\") as text_file:\n",
    "    text_file.write(\"Test error: {}\".format(float(tot)/num_test))"
   ]
  },
  {
   "cell_type": "code",
   "execution_count": 29,
   "metadata": {
    "collapsed": false
   },
   "outputs": [],
   "source": [
    "sess.close()"
   ]
  },
  {
   "cell_type": "code",
   "execution_count": null,
   "metadata": {
    "collapsed": true
   },
   "outputs": [],
   "source": [
    "# as the number of labeled examples decreases, need alpha to decrease as well"
   ]
  },
  {
   "cell_type": "code",
   "execution_count": null,
   "metadata": {
    "collapsed": true
   },
   "outputs": [],
   "source": []
  }
 ],
 "metadata": {
  "kernelspec": {
   "display_name": "Python 2",
   "language": "python",
   "name": "python2"
  },
  "language_info": {
   "codemirror_mode": {
    "name": "ipython",
    "version": 2
   },
   "file_extension": ".py",
   "mimetype": "text/x-python",
   "name": "python",
   "nbconvert_exporter": "python",
   "pygments_lexer": "ipython2",
   "version": "2.7.11"
  }
 },
 "nbformat": 4,
 "nbformat_minor": 0
}
